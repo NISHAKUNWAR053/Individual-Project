{
 "cells": [
  {
   "cell_type": "markdown",
   "id": "b8dc0824-78b9-458c-b717-77450a52212e",
   "metadata": {},
   "source": [
    "|Feature             | Type | Description |\n",
    "| :---------------- | :------ | :---- |\n",
    "| ID       |   Int  | Unique identifier for the listing. |\n",
    "| Name           |   String(obj)   | Name/title of the listing.|\n",
    "| Host ID   |  Int  | Unique identifier for the host. |\n",
    "| Host Name |  String(obj)  | Name of the host. |\n",
    "| Neighbourhood Group     |   String(obj)  |Borough where the listing is located (e.g., Manhattan, Brooklyn).|\n",
    "| Neighbourhood          |  String(obj) | Specific neighbourhood where the listing is located. |\n",
    "| Latitude |  Float | Latitude coordinate of the listing.|\n",
    "| Longitude |  Float  | Longitude coordinate of the listing. |\n",
    "|    Room Type  |   String(obj)  | Type of room being offered (e.g., Entire home/apt, Private room). |\n",
    "| Price         |  Int  | Price per night for the listing. |\n",
    "| Minimum Nights  |  Int  | Minimum number of nights required for booking. |\n",
    "| Number of reviews|  Int  |Total number of reviews received for the listing.|\n",
    "| Last review      |  Date(obj)   | Date of the last review received.|\n",
    "|Reviews per month         |   Float  | Average number of reviews the listing receives per month. |\n",
    "| Calculated Host Listing Count  |  Int  | Number of listings the host has on Airbnb. |\n",
    "| Availability 365 | Int  | Number of days the listing is available for booking over the year. |\n"
   ]
  },
  {
   "cell_type": "code",
   "execution_count": null,
   "id": "7e1403d5-67dd-4755-9a10-267e6ea43628",
   "metadata": {},
   "outputs": [],
   "source": []
  }
 ],
 "metadata": {
  "kernelspec": {
   "display_name": "Python 3 (ipykernel)",
   "language": "python",
   "name": "python3"
  },
  "language_info": {
   "codemirror_mode": {
    "name": "ipython",
    "version": 3
   },
   "file_extension": ".py",
   "mimetype": "text/x-python",
   "name": "python",
   "nbconvert_exporter": "python",
   "pygments_lexer": "ipython3",
   "version": "3.10.12"
  }
 },
 "nbformat": 4,
 "nbformat_minor": 5
}
